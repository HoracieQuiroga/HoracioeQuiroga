{
  "nbformat": 4,
  "nbformat_minor": 0,
  "metadata": {
    "colab": {
      "name": "Untitled2 lista cociente.ipynb",
      "provenance": [],
      "collapsed_sections": [],
      "authorship_tag": "ABX9TyMdyKl4CprHi82Fm8LKqq/O"
    },
    "kernelspec": {
      "name": "python3",
      "display_name": "Python 3"
    },
    "language_info": {
      "name": "python"
    }
  },
  "cells": [
    {
      "cell_type": "code",
      "execution_count": null,
      "metadata": {
        "id": "zEfFJlrMJny-"
      },
      "outputs": [],
      "source": [
        "import random\n",
        "def cociente_lista(lista):\n",
        "    res=[]\n",
        "    for _ in lista:\n",
        "        x=random.choice(lista)\n",
        "        y=random.choice(lista)\n",
        "        res.append(cociente([x,y]))\n",
        "    return res"
      ]
    }
  ]
}