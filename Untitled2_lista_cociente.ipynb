{
  "nbformat": 4,
  "nbformat_minor": 0,
  "metadata": {
    "colab": {
      "name": "Untitled2 lista cociente.ipynb",
      "provenance": [],
      "collapsed_sections": [],
      "authorship_tag": "ABX9TyMdyKl4CprHi82Fm8LKqq/O",
      "include_colab_link": true
    },
    "kernelspec": {
      "name": "python3",
      "display_name": "Python 3"
    },
    "language_info": {
      "name": "python"
    }
  },
  "cells": [
    {
      "cell_type": "markdown",
      "metadata": {
        "id": "view-in-github",
        "colab_type": "text"
      },
      "source": [
        "<a href=\"https://colab.research.google.com/github/HoracioeQuiroga/HoracioeQuiroga/blob/HoracioeQuiroga-patch-3/Untitled2_lista_cociente.ipynb\" target=\"_parent\"><img src=\"https://colab.research.google.com/assets/colab-badge.svg\" alt=\"Open In Colab\"/></a>"
      ]
    },
    {
      "cell_type": "code",
      "execution_count": null,
      "metadata": {
        "id": "zEfFJlrMJny-"
      },
      "outputs": [],
      "source": [
        "import random\n",
        "def cociente_lista(lista):\n",
        "    res=[]\n",
        "    for _ in lista:\n",
        "        x=random.choice(lista)\n",
        "        y=random.choice(lista)\n",
        "        res.append(cociente([x,y]))\n",
        "    return res"
      ]
    }
  ]
}